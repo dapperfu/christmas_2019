{
 "cells": [
  {
   "cell_type": "code",
   "execution_count": 1,
   "metadata": {},
   "outputs": [],
   "source": [
    "import matplotlib.pyplot as plt\n",
    "import numpy as np\n",
    "import wave\n",
    "import sys\n",
    "import scipy"
   ]
  },
  {
   "cell_type": "code",
   "execution_count": 2,
   "metadata": {},
   "outputs": [],
   "source": [
    "wave_file = 'jily.wav'\n",
    "wvf = wave.open(wave_file)\n",
    "wvf.rewind()\n",
    "signal = wvf.readframes(-1)\n",
    "signal = np.frombuffer(signal, np.int16)\n",
    "fs = wvf.getframerate()\n",
    "n = wvf.getnchannels()"
   ]
  },
  {
   "cell_type": "code",
   "execution_count": 3,
   "metadata": {},
   "outputs": [],
   "source": [
    "channels=np.reshape(signal, (int(len(signal)/n),n), order=\"A\")\n",
    "Time=np.linspace(0, len(signal)/n/fs, num=int(len(signal)/n))"
   ]
  },
  {
   "cell_type": "code",
   "execution_count": 4,
   "metadata": {},
   "outputs": [],
   "source": [
    "channel = channels[:,1]"
   ]
  },
  {
   "cell_type": "code",
   "execution_count": 48,
   "metadata": {},
   "outputs": [],
   "source": [
    "np.arange?"
   ]
  },
  {
   "cell_type": "code",
   "execution_count": 12,
   "metadata": {},
   "outputs": [
    {
     "data": {
      "image/png": "[encoded data removed]",
      "text/plain": [
       "<Figure size 432x288 with 1 Axes>"
      ]
     },
     "metadata": {
      "needs_background": "light"
     },
     "output_type": "display_data"
    }
   ],
   "source": [
    "x_offset=12\n",
    "y_offset=96/2\n",
    "\n",
    "max_x = 75\n",
    "max_y = 80\n",
    "scale_x = max_x/Time[-1]\n",
    "scale_y = (max_y/2)/np.max(np.abs(channel))\n",
    "\n",
    "plot_lines_x = np.arange(0, max_x, 0.1)\n",
    "plot_lines_y = np.interp(plot_lines_x, Time*scale_x,channel*scale_y)\n",
    "for idx, line in enumerate(np.abs(plot_lines_y)):\n",
    "    plt.vlines(x_offset+plot_lines_x[idx], -line+y_offset, line+y_offset)"
   ]
  },
  {
   "cell_type": "code",
   "execution_count": 6,
   "metadata": {},
   "outputs": [],
   "source": [
    "import gcode"
   ]
  },
  {
   "cell_type": "code",
   "execution_count": 10,
   "metadata": {
    "scrolled": false
   },
   "outputs": [],
   "source": [
    "prog = gcode.GCode()\n",
    "prog.G90()\n",
    "prog.G21()\n",
    "prog.G92(X=0, Y=0, Z=0)\n",
    "for X, Y in zip(plot_lines_x, np.abs(plot_lines_y)):\n",
    "    prog.G0(X=X+x_offset, Y=-Y+y_offset, F=300)\n",
    "    prog.M3(S=255)\n",
    "    prog.G1(X=X+x_offset, Y=-Y+y_offset, F=150)\n",
    "    prog.G1(X=X+x_offset, Y=Y+y_offset, F=150)\n",
    "    prog.M5()\n",
    "\n",
    "prog.save(\"jily.ngc\")"
   ]
  }
 ],
 "metadata": {
  "kernelspec": {
   "display_name": "Python 3",
   "language": "python",
   "name": "python3"
  },
  "language_info": {
   "codemirror_mode": {
    "name": "ipython",
    "version": 3
   },
   "file_extension": ".py",
   "mimetype": "text/x-python",
   "name": "python",
   "nbconvert_exporter": "python",
   "pygments_lexer": "ipython3",
   "version": "3.8.0"
  }
 },
 "nbformat": 4,
 "nbformat_minor": 2
}

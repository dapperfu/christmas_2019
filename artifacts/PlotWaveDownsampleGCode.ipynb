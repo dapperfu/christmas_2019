{
 "cells": [
  {
   "cell_type": "code",
   "execution_count": 107,
   "metadata": {},
   "outputs": [],
   "source": [
    "import matplotlib.pyplot as plt\n",
    "import numpy as np\n",
    "import wave\n",
    "import sys\n",
    "import scipy\n",
    "\n",
    "import glob\n",
    "\n",
    "wave_files = glob.glob(\"*.wav\")"
   ]
  },
  {
   "cell_type": "code",
   "execution_count": 113,
   "metadata": {},
   "outputs": [
    {
     "data": {
      "text/plain": [
       "'audio_8000Hz_signed16.wav'"
      ]
     },
     "execution_count": 113,
     "metadata": {},
     "output_type": "execute_result"
    }
   ],
   "source": [
    "for wave_file in wave_files:\n",
    "    break\n",
    "wave_file"
   ]
  },
  {
   "cell_type": "code",
   "execution_count": 115,
   "metadata": {},
   "outputs": [],
   "source": [
    "wvf = wave.open(wave_file)"
   ]
  },
  {
   "cell_type": "code",
   "execution_count": 116,
   "metadata": {},
   "outputs": [
    {
     "data": {
      "text/plain": [
       "<wave.Wave_read at 0x7f969789c340>"
      ]
     },
     "execution_count": 116,
     "metadata": {},
     "output_type": "execute_result"
    }
   ],
   "source": [
    "wvf"
   ]
  },
  {
   "cell_type": "code",
   "execution_count": 117,
   "metadata": {},
   "outputs": [
    {
     "name": "stdout",
     "output_type": "stream",
     "text": [
      "getcompname:not compressed\n",
      "getcomptype:NONE\n",
      "getfp:<chunk.Chunk object at 0x7f969789ca90>\n",
      "getframerate:8000\n",
      "getmark:FAIL\n",
      "getmarkers:None\n",
      "getnchannels:2\n",
      "getnframes:14001\n",
      "getparams:_wave_params(nchannels=2, sampwidth=2, framerate=8000, nframes=14001, comptype='NONE', compname='not compressed')\n",
      "getsampwidth:2\n"
     ]
    }
   ],
   "source": [
    "for attr in dir(wvf):\n",
    "    if attr.startswith(\"_\"):\n",
    "        continue\n",
    "    if attr.startswith(\"get\"):\n",
    "        try:\n",
    "            value = getattr(wvf, attr)()\n",
    "            print(f\"{attr}:{value}\")\n",
    "        except:\n",
    "            print(f\"{attr}:FAIL\")"
   ]
  },
  {
   "cell_type": "code",
   "execution_count": 128,
   "metadata": {},
   "outputs": [
    {
     "data": {
      "text/plain": [
       "<module 'wave' from '/usr/lib/python3.8/wave.py'>"
      ]
     },
     "execution_count": 128,
     "metadata": {},
     "output_type": "execute_result"
    }
   ],
   "source": [
    "wave"
   ]
  },
  {
   "cell_type": "code",
   "execution_count": 129,
   "metadata": {},
   "outputs": [],
   "source": [
    "from wave import Wave_read"
   ]
  },
  {
   "cell_type": "code",
   "execution_count": 134,
   "metadata": {
    "scrolled": true
   },
   "outputs": [],
   "source": [
    "wvf.rewind()\n",
    "signal = wvf.readframes(-1)\n",
    "signal = np.frombuffer(signal, np.int16)"
   ]
  },
  {
   "cell_type": "code",
   "execution_count": 135,
   "metadata": {},
   "outputs": [],
   "source": [
    "channels = [[] for channel in range(wvf.getnchannels())]\n",
    "for index, datum in enumerate(signal):\n",
    "    channels[index%len(channels)].append(datum)"
   ]
  },
  {
   "cell_type": "code",
   "execution_count": 138,
   "metadata": {},
   "outputs": [
    {
     "data": {
      "text/plain": [
       "28002"
      ]
     },
     "execution_count": 138,
     "metadata": {},
     "output_type": "execute_result"
    }
   ],
   "source": [
    "len(signal)"
   ]
  },
  {
   "cell_type": "code",
   "execution_count": 139,
   "metadata": {},
   "outputs": [
    {
     "data": {
      "text/plain": [
       "14001.0"
      ]
     },
     "execution_count": 139,
     "metadata": {},
     "output_type": "execute_result"
    }
   ],
   "source": [
    "len(signal)/2"
   ]
  },
  {
   "cell_type": "code",
   "execution_count": 144,
   "metadata": {},
   "outputs": [
    {
     "data": {
      "text/plain": [
       "189"
      ]
     },
     "execution_count": 144,
     "metadata": {},
     "output_type": "execute_result"
    }
   ],
   "source": [
    "channels[0][0]"
   ]
  },
  {
   "cell_type": "code",
   "execution_count": 145,
   "metadata": {},
   "outputs": [
    {
     "data": {
      "text/plain": [
       "368"
      ]
     },
     "execution_count": 145,
     "metadata": {},
     "output_type": "execute_result"
    }
   ],
   "source": [
    "channels[0][1]"
   ]
  },
  {
   "cell_type": "code",
   "execution_count": 146,
   "metadata": {},
   "outputs": [
    {
     "data": {
      "text/plain": [
       "101"
      ]
     },
     "execution_count": 146,
     "metadata": {},
     "output_type": "execute_result"
    }
   ],
   "source": [
    "channels[1][0]"
   ]
  },
  {
   "cell_type": "code",
   "execution_count": 147,
   "metadata": {},
   "outputs": [
    {
     "data": {
      "text/plain": [
       "114"
      ]
     },
     "execution_count": 147,
     "metadata": {},
     "output_type": "execute_result"
    }
   ],
   "source": [
    "channels[1][1]"
   ]
  },
  {
   "cell_type": "code",
   "execution_count": 151,
   "metadata": {},
   "outputs": [
    {
     "name": "stdout",
     "output_type": "stream",
     "text": [
      "Chan 1:\n",
      "\t189\n",
      "\t368\n",
      "Chan 2:\n",
      "\t101\n",
      "\t114\n"
     ]
    }
   ],
   "source": [
    "for idx, channel in enumerate(channels):\n",
    "    print(f\"Chan {idx+1}:\")\n",
    "    print(f\"\\t{channel[0]}\")\n",
    "    print(f\"\\t{channel[1]}\")\n",
    "    "
   ]
  },
  {
   "cell_type": "code",
   "execution_count": 152,
   "metadata": {},
   "outputs": [
    {
     "data": {
      "text/plain": [
       "array([[ 189,  101],\n",
       "       [ 368,  114],\n",
       "       [ 341,  121],\n",
       "       ...,\n",
       "       [-792,  299],\n",
       "       [-615,  369],\n",
       "       [-632,  536]], dtype=int16)"
      ]
     },
     "execution_count": 152,
     "metadata": {},
     "output_type": "execute_result"
    }
   ],
   "source": [
    "channels2=np.reshape(signal, (int(len(signal)/2),2), order=\"A\")\n",
    "channels2"
   ]
  },
  {
   "cell_type": "code",
   "execution_count": 153,
   "metadata": {},
   "outputs": [
    {
     "data": {
      "text/plain": [
       "array([101, -86], dtype=int16)"
      ]
     },
     "execution_count": 153,
     "metadata": {},
     "output_type": "execute_result"
    }
   ],
   "source": [
    "channel2[:,1]"
   ]
  },
  {
   "cell_type": "code",
   "execution_count": 154,
   "metadata": {},
   "outputs": [
    {
     "data": {
      "text/plain": [
       "array([  189, -1972], dtype=int16)"
      ]
     },
     "execution_count": 154,
     "metadata": {},
     "output_type": "execute_result"
    }
   ],
   "source": [
    "channel2[:,0]"
   ]
  },
  {
   "cell_type": "code",
   "execution_count": 155,
   "metadata": {},
   "outputs": [
    {
     "data": {
      "text/plain": [
       "8000"
      ]
     },
     "execution_count": 155,
     "metadata": {},
     "output_type": "execute_result"
    }
   ],
   "source": [
    "fs"
   ]
  },
  {
   "cell_type": "code",
   "execution_count": 156,
   "metadata": {},
   "outputs": [],
   "source": [
    "Time=np.linspace(0, len(signal)/len(channels)/fs, num=int(len(signal)/len(channels)))"
   ]
  },
  {
   "cell_type": "code",
   "execution_count": 157,
   "metadata": {},
   "outputs": [
    {
     "data": {
      "text/plain": [
       "14001"
      ]
     },
     "execution_count": 157,
     "metadata": {},
     "output_type": "execute_result"
    }
   ],
   "source": [
    "len(Time)"
   ]
  },
  {
   "cell_type": "code",
   "execution_count": 158,
   "metadata": {},
   "outputs": [
    {
     "data": {
      "text/plain": [
       "14001"
      ]
     },
     "execution_count": 158,
     "metadata": {},
     "output_type": "execute_result"
    }
   ],
   "source": [
    "len(channel)"
   ]
  },
  {
   "cell_type": "code",
   "execution_count": 160,
   "metadata": {},
   "outputs": [
    {
     "data": {
      "text/plain": [
       "1.750125"
      ]
     },
     "execution_count": 160,
     "metadata": {},
     "output_type": "execute_result"
    }
   ],
   "source": [
    "Time[-1]"
   ]
  },
  {
   "cell_type": "code",
   "execution_count": 161,
   "metadata": {},
   "outputs": [
    {
     "data": {
      "image/png": "[encoded data removed]",
      "text/plain": [
       "<Figure size 432x288 with 1 Axes>"
      ]
     },
     "metadata": {
      "needs_background": "light"
     },
     "output_type": "display_data"
    }
   ],
   "source": [
    "#Plot\n",
    "plt.figure(1)\n",
    "plt.title('Signal Wave...')\n",
    "plt.plot(Time,channels[0])\n",
    "plt.show()"
   ]
  },
  {
   "cell_type": "code",
   "execution_count": 162,
   "metadata": {},
   "outputs": [],
   "source": [
    "max_x = 100\n",
    "max_y = 50"
   ]
  },
  {
   "cell_type": "code",
   "execution_count": 163,
   "metadata": {},
   "outputs": [],
   "source": [
    "scale_x = max_x/Time[-1]\n",
    "scale_y = max_y/np.max(np.abs(channel))"
   ]
  },
  {
   "cell_type": "code",
   "execution_count": 166,
   "metadata": {},
   "outputs": [
    {
     "data": {
      "image/png": "[encoded data removed]",
      "text/plain": [
       "<Figure size 432x288 with 1 Axes>"
      ]
     },
     "metadata": {
      "needs_background": "light"
     },
     "output_type": "display_data"
    }
   ],
   "source": [
    "#Plot\n",
    "plt.figure(1)\n",
    "plt.title('Signal Wave...')\n",
    "plt.plot(Time*scale_x,channels2[:,1]*scale_y)\n",
    "plt.show()"
   ]
  },
  {
   "cell_type": "code",
   "execution_count": 167,
   "metadata": {},
   "outputs": [
    {
     "data": {
      "text/plain": [
       "array([101, 114, 121, ..., 299, 369, 536], dtype=int16)"
      ]
     },
     "execution_count": 167,
     "metadata": {},
     "output_type": "execute_result"
    }
   ],
   "source": [
    "channels2[:,1]"
   ]
  },
  {
   "cell_type": "code",
   "execution_count": 168,
   "metadata": {},
   "outputs": [],
   "source": [
    "x = channels2[:,1]"
   ]
  },
  {
   "cell_type": "code",
   "execution_count": 170,
   "metadata": {},
   "outputs": [
    {
     "data": {
      "text/plain": [
       "array([101, 114, 121, ..., 299, 369, 536], dtype=int16)"
      ]
     },
     "execution_count": 170,
     "metadata": {},
     "output_type": "execute_result"
    }
   ],
   "source": [
    "x[:]"
   ]
  },
  {
   "cell_type": "code",
   "execution_count": 171,
   "metadata": {},
   "outputs": [
    {
     "data": {
      "text/plain": [
       "14001"
      ]
     },
     "execution_count": 171,
     "metadata": {},
     "output_type": "execute_result"
    }
   ],
   "source": [
    "len(x[:])"
   ]
  },
  {
   "cell_type": "code",
   "execution_count": null,
   "metadata": {},
   "outputs": [],
   "source": [
    "1:2:len(x)"
   ]
  },
  {
   "cell_type": "code",
   "execution_count": 180,
   "metadata": {},
   "outputs": [],
   "source": [
    "y = x[range(0, len(x), 2)]"
   ]
  },
  {
   "cell_type": "code",
   "execution_count": 181,
   "metadata": {},
   "outputs": [
    {
     "data": {
      "text/plain": [
       "7001"
      ]
     },
     "execution_count": 181,
     "metadata": {},
     "output_type": "execute_result"
    }
   ],
   "source": [
    "len(y)"
   ]
  },
  {
   "cell_type": "code",
   "execution_count": 182,
   "metadata": {},
   "outputs": [
    {
     "data": {
      "text/plain": [
       "100"
      ]
     },
     "execution_count": 182,
     "metadata": {},
     "output_type": "execute_result"
    }
   ],
   "source": [
    "max_x"
   ]
  },
  {
   "cell_type": "code",
   "execution_count": 183,
   "metadata": {},
   "outputs": [
    {
     "data": {
      "text/plain": [
       "[<matplotlib.lines.Line2D at 0x7f96a49d9b20>]"
      ]
     },
     "execution_count": 183,
     "metadata": {},
     "output_type": "execute_result"
    },
    {
     "data": {
      "image/png": "[encoded data removed]",
      "text/plain": [
       "<Figure size 432x288 with 1 Axes>"
      ]
     },
     "metadata": {
      "needs_background": "light"
     },
     "output_type": "display_data"
    }
   ],
   "source": [
    "plt.plot(np.linspace(0, max_x, len(y)), y)"
   ]
  },
  {
   "cell_type": "code",
   "execution_count": 186,
   "metadata": {},
   "outputs": [
    {
     "data": {
      "text/plain": [
       "array([  0.        ,   2.04081633,   4.08163265,   6.12244898,\n",
       "         8.16326531,  10.20408163,  12.24489796,  14.28571429,\n",
       "        16.32653061,  18.36734694,  20.40816327,  22.44897959,\n",
       "        24.48979592,  26.53061224,  28.57142857,  30.6122449 ,\n",
       "        32.65306122,  34.69387755,  36.73469388,  38.7755102 ,\n",
       "        40.81632653,  42.85714286,  44.89795918,  46.93877551,\n",
       "        48.97959184,  51.02040816,  53.06122449,  55.10204082,\n",
       "        57.14285714,  59.18367347,  61.2244898 ,  63.26530612,\n",
       "        65.30612245,  67.34693878,  69.3877551 ,  71.42857143,\n",
       "        73.46938776,  75.51020408,  77.55102041,  79.59183673,\n",
       "        81.63265306,  83.67346939,  85.71428571,  87.75510204,\n",
       "        89.79591837,  91.83673469,  93.87755102,  95.91836735,\n",
       "        97.95918367, 100.        ])"
      ]
     },
     "execution_count": 186,
     "metadata": {},
     "output_type": "execute_result"
    }
   ],
   "source": [
    "np.linspace(0, 100, 50)"
   ]
  },
  {
   "cell_type": "code",
   "execution_count": 187,
   "metadata": {},
   "outputs": [],
   "source": [
    "plot_lines_x = np.linspace(0, 100, 50)"
   ]
  },
  {
   "cell_type": "code",
   "execution_count": 188,
   "metadata": {},
   "outputs": [],
   "source": [
    "?np.interp"
   ]
  },
  {
   "cell_type": "code",
   "execution_count": 198,
   "metadata": {
    "scrolled": true
   },
   "outputs": [
    {
     "data": {
      "text/plain": [
       "[<matplotlib.lines.Line2D at 0x7f9696e3fcd0>]"
      ]
     },
     "execution_count": 198,
     "metadata": {},
     "output_type": "execute_result"
    },
    {
     "data": {
      "image/png": "[encoded data removed]",
      "text/plain": [
       "<Figure size 432x288 with 1 Axes>"
      ]
     },
     "metadata": {
      "needs_background": "light"
     },
     "output_type": "display_data"
    }
   ],
   "source": [
    "plot_lines_x = np.linspace(0, 100, 500)\n",
    "plot_lines_y = np.interp(plot_lines_x, Time*scale_x,channels2[:,1]*scale_y)\n",
    "plt.plot(plot_lines_x, plot_lines_y)"
   ]
  },
  {
   "cell_type": "code",
   "execution_count": null,
   "metadata": {},
   "outputs": [],
   "source": [
    "channels2[:,1]"
   ]
  },
  {
   "cell_type": "code",
   "execution_count": 31,
   "metadata": {},
   "outputs": [],
   "source": [
    "idx_1 = np.where(Time>13)[0][0]\n",
    "idx_2 = np.where(Time<15)[0][-1]"
   ]
  },
  {
   "cell_type": "code",
   "execution_count": 32,
   "metadata": {},
   "outputs": [
    {
     "data": {
      "text/plain": [
       "624000"
      ]
     },
     "execution_count": 32,
     "metadata": {},
     "output_type": "execute_result"
    }
   ],
   "source": [
    "idx_1"
   ]
  },
  {
   "cell_type": "code",
   "execution_count": 33,
   "metadata": {},
   "outputs": [
    {
     "data": {
      "text/plain": [
       "719999"
      ]
     },
     "execution_count": 33,
     "metadata": {},
     "output_type": "execute_result"
    }
   ],
   "source": [
    "idx_2"
   ]
  },
  {
   "cell_type": "code",
   "execution_count": 35,
   "metadata": {},
   "outputs": [
    {
     "name": "stdout",
     "output_type": "stream",
     "text": [
      "Collecting scipy\n",
      "\u001b[?25l  Downloading https://files.pythonhosted.org/packages/3a/53/fb5cf76f870752cb90e998b88cffdb1548aecccfd28474290e229d4580af/scipy-1.4.0-cp38-cp38-manylinux1_x86_64.whl (26.0MB)\n",
      "\u001b[K     |████████████████████████████████| 26.0MB 891kB/s eta 0:00:01\n",
      "\u001b[?25hRequirement already satisfied: numpy>=1.13.3 in /home/jed/CalvinDaddy/christmas_2019/virtualenv_python3.8/lib/python3.8/site-packages/numpy-1.18.0rc1-py3.8-linux-x86_64.egg (from scipy) (1.18.0rc1)\n",
      "Installing collected packages: scipy\n",
      "Successfully installed scipy-1.4.0\n"
     ]
    }
   ],
   "source": [
    "!pip install scipy"
   ]
  },
  {
   "cell_type": "code",
   "execution_count": 102,
   "metadata": {},
   "outputs": [],
   "source": [
    "import wave    \n",
    "from scipy import signal    \n",
    "import numpy as np    \n",
    "import matplotlib.pyplot as plt    \n",
    "signal_wave = wave.open('audio.wav', 'r')    \n",
    "sample_frequency = 16000    \n",
    "data = np.frombuffer(signal_wave.readframes(sample_frequency), dtype=np.int16)    \n",
    "sig = signal_wave.readframes(-1)    \n",
    "sig = np.frombuffer(sig, np.int16)"
   ]
  },
  {
   "cell_type": "code",
   "execution_count": 42,
   "metadata": {},
   "outputs": [
    {
     "data": {
      "text/plain": [
       "array([ 80, 338,  61, ...,  57,  29,  57], dtype=int16)"
      ]
     },
     "execution_count": 42,
     "metadata": {},
     "output_type": "execute_result"
    }
   ],
   "source": [
    "sig"
   ]
  },
  {
   "cell_type": "code",
   "execution_count": 43,
   "metadata": {},
   "outputs": [
    {
     "data": {
      "text/plain": [
       "array([  0,   0,   0, ..., 343,  95, 361], dtype=int16)"
      ]
     },
     "execution_count": 43,
     "metadata": {},
     "output_type": "execute_result"
    }
   ],
   "source": [
    "data"
   ]
  },
  {
   "cell_type": "code",
   "execution_count": 45,
   "metadata": {},
   "outputs": [],
   "source": [
    "sig = sig[25000:32000]    \n",
    "left, right = data[0::2], data[1::2]    \n",
    "lf, rf = abs(np.fft.rfft(left)), abs(np.fft.rfft(right))"
   ]
  },
  {
   "cell_type": "code",
   "execution_count": 46,
   "metadata": {},
   "outputs": [
    {
     "name": "stderr",
     "output_type": "stream",
     "text": [
      "<ipython-input-46-ac01207d0a55>:7: UserWarning: Only one segment is calculated since parameter NFFT (=1024) >= signal length (=0).\n",
      "  Pxx, freqs, bins, im = c.specgram(sig, NFFT=1024, Fs=16000, noverlap=900)\n",
      "/home/jed/CalvinDaddy/christmas_2019/virtualenv_python3.8/lib/python3.8/site-packages/matplotlib/axes/_axes.py:7747: RuntimeWarning: divide by zero encountered in log10\n",
      "  Z = 10. * np.log10(spec)\n",
      "/home/jed/CalvinDaddy/christmas_2019/virtualenv_python3.8/lib/python3.8/site-packages/matplotlib/image.py:397: UserWarning: Warning: converting a masked element to nan.\n",
      "  dv = (np.float64(self.norm.vmax) -\n",
      "/home/jed/CalvinDaddy/christmas_2019/virtualenv_python3.8/lib/python3.8/site-packages/matplotlib/image.py:398: UserWarning: Warning: converting a masked element to nan.\n",
      "  np.float64(self.norm.vmin))\n",
      "/home/jed/CalvinDaddy/christmas_2019/virtualenv_python3.8/lib/python3.8/site-packages/matplotlib/image.py:405: UserWarning: Warning: converting a masked element to nan.\n",
      "  a_min = np.float64(newmin)\n",
      "/home/jed/CalvinDaddy/christmas_2019/virtualenv_python3.8/lib/python3.8/site-packages/matplotlib/image.py:410: UserWarning: Warning: converting a masked element to nan.\n",
      "  a_max = np.float64(newmax)\n",
      "<__array_function__ internals>:5: UserWarning: Warning: converting a masked element to nan.\n",
      "/home/jed/CalvinDaddy/christmas_2019/virtualenv_python3.8/lib/python3.8/site-packages/numpy-1.18.0rc1-py3.8-linux-x86_64.egg/numpy/ma/core.py:722: UserWarning: Warning: converting a masked element to nan.\n",
      "  data = np.array(a, copy=False, subok=subok)\n"
     ]
    },
    {
     "data": {
      "image/png": "[encoded data removed]",
      "text/plain": [
       "<Figure size 432x288 with 2 Axes>"
      ]
     },
     "metadata": {
      "needs_background": "light"
     },
     "output_type": "display_data"
    }
   ],
   "source": [
    "plt.figure(1)    \n",
    "a = plt.subplot(211)    \n",
    "a.set_xlabel('time [s]')    \n",
    "a.set_ylabel('sample value [-]')    \n",
    "plt.plot(sig)    \n",
    "c = plt.subplot(212)    \n",
    "Pxx, freqs, bins, im = c.specgram(sig, NFFT=1024, Fs=16000, noverlap=900)    \n",
    "c.set_xlabel('Time')    \n",
    "c.set_ylabel('Frequency')    \n",
    "plt.show()"
   ]
  },
  {
   "cell_type": "code",
   "execution_count": 47,
   "metadata": {},
   "outputs": [],
   "source": [
    "file = \"audio.wav\""
   ]
  },
  {
   "cell_type": "code",
   "execution_count": null,
   "metadata": {},
   "outputs": [],
   "source": []
  },
  {
   "cell_type": "code",
   "execution_count": 56,
   "metadata": {},
   "outputs": [],
   "source": [
    "wav_file = wave.open(file,'r')\n",
    "\n",
    "#Extract Raw Audio from Wav File\n",
    "signal = wav_file.readframes(-1)\n",
    "if wav_file.getsampwidth() == 1:\n",
    "    signal = np.array(np.frombuffer(signal, dtype=np.uint8)-128, dtype=np.uint17)\n",
    "elif wav_file.getsampwidth() == 2:\n",
    "    signal = np.frombuffer(signal, dtype=np.uint16)\n",
    "else:\n",
    "    raise RuntimeError(\"Unsupported sample width\")\n",
    "\n",
    "# http://schlameel.com/2017/06/09/interleaving-and-de-interleaving-data-with-python/\n",
    "deinterleaved = [signal[idx::wav_file.getnchannels()] for idx in range(wav_file.getnchannels())]\n",
    "\n",
    "#Get time from indices\n",
    "fs = wav_file.getframerate()\n",
    "Time=np.linspace(0, len(signal)/wav_file.getnchannels()/fs, num=int(len(signal)/wav_file.getnchannels()))\n",
    "\n",
    "                 \n",
    "                 "
   ]
  },
  {
   "cell_type": "code",
   "execution_count": 57,
   "metadata": {},
   "outputs": [
    {
     "data": {
      "image/png": "[encoded data removed]",
      "text/plain": [
       "<Figure size 432x288 with 1 Axes>"
      ]
     },
     "metadata": {
      "needs_background": "light"
     },
     "output_type": "display_data"
    }
   ],
   "source": [
    "#Plot\n",
    "plt.figure(1)\n",
    "#don't care for title\n",
    "#plt.title('Signal Wave...')\n",
    "for channel in deinterleaved:\n",
    "    plt.plot(Time,channel, linewidth=.125)\n",
    "#don't need to show, just save\n",
    "#plt.show()\n",
    "plt.savefig('audio.png', dpi=72)"
   ]
  },
  {
   "cell_type": "code",
   "execution_count": 51,
   "metadata": {},
   "outputs": [
    {
     "data": {
      "image/png": "[encoded data removed]",
      "text/plain": [
       "<Figure size 432x288 with 1 Axes>"
      ]
     },
     "metadata": {
      "needs_background": "light"
     },
     "output_type": "display_data"
    }
   ],
   "source": [
    "with wave.open(file,'r') as wav_file:\n",
    "    num_channels = wav_file.getnchannels()\n",
    "    frame_rate = wav_file.getframerate()\n",
    "    downsample = math.ceil(frame_rate * num_channels / 2) # Get two samples per second!\n",
    "\n",
    "    process_chunk_size = 600000 - (600000 % frame_rate)\n",
    "\n",
    "    signal = None\n",
    "    waveform = np.array([])\n",
    "\n",
    "    while signal is None or signal.size > 0:\n",
    "        signal = np.frombuffer(wav_file.readframes(process_chunk_size), dtype='int16')\n",
    "\n",
    "        # Take mean of absolute values per 0.5 seconds\n",
    "        sub_waveform = np.nanmean(\n",
    "            np.pad(np.absolute(signal), (0, ((downsample - (signal.size % downsample)) % downsample)), mode='constant', constant_values=np.NaN).reshape(-1, downsample),\n",
    "            axis=1\n",
    "        )\n",
    "\n",
    "        waveform = np.concatenate((waveform, sub_waveform))\n",
    "\n",
    "    #Plot\n",
    "    plt.figure(1)\n",
    "    plt.title('Waveform')\n",
    "    plt.plot(waveform)\n",
    "    plt.show()"
   ]
  },
  {
   "cell_type": "code",
   "execution_count": null,
   "metadata": {},
   "outputs": [],
   "source": []
  }
 ],
 "metadata": {
  "kernelspec": {
   "display_name": "Python 3",
   "language": "python",
   "name": "python3"
  },
  "language_info": {
   "codemirror_mode": {
    "name": "ipython",
    "version": 3
   },
   "file_extension": ".py",
   "mimetype": "text/x-python",
   "name": "python",
   "nbconvert_exporter": "python",
   "pygments_lexer": "ipython3",
   "version": "3.8.0"
  }
 },
 "nbformat": 4,
 "nbformat_minor": 2
}
